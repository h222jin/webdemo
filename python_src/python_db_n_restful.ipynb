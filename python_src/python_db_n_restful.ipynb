{
 "cells": [
  {
   "cell_type": "code",
   "execution_count": 1,
   "metadata": {},
   "outputs": [
    {
     "name": "stdout",
     "output_type": "stream",
     "text": [
      "Table Creation Success\n"
     ]
    }
   ],
   "source": [
    "# pip install pymysql\n",
    "import pymysql\n",
    "\n",
    "# Connection(접속)\n",
    "# 잘 기억이 나지 않는다면 show databases;\n",
    "# mysql -u stest -p 비밀번호\n",
    "db = pymysql.connect(\n",
    "    host='127.0.0.1', \n",
    "    port=3306, \n",
    "    user='stest', \n",
    "    passwd='1234', \n",
    "    db='test'\n",
    ")\n",
    "\n",
    "cursor = db.cursor()\n",
    "\n",
    "# SQL 문 작성\n",
    "# 잘 생성되었는지 확인하기 - show tables;\n",
    "sql = \"\"\"\n",
    "    create table pydbtest(\n",
    "        id int unsigned not null auto_increment,\n",
    "        name varchar(20) not null,\n",
    "        price int not null,\n",
    "        primary key(id)\n",
    "    );\n",
    "\"\"\"\n",
    "\n",
    "# SQL Query 실행(메모리상에서 완료)\n",
    "cursor.execute(sql)\n",
    "\n",
    "# 실제 DB에 적용(commit)\n",
    "db.commit()\n",
    "\n",
    "# DB 닫기\n",
    "db.close()\n",
    "\n",
    "print(\"Table Creation Success\")"
   ]
  },
  {
   "cell_type": "code",
   "execution_count": 2,
   "metadata": {},
   "outputs": [
    {
     "name": "stdout",
     "output_type": "stream",
     "text": [
      "Insert Success\n"
     ]
    }
   ],
   "source": [
    "import pymysql\n",
    "\n",
    "db = pymysql.connect(\n",
    "    host='127.0.0.1', \n",
    "    port=3306, \n",
    "    user='stest', \n",
    "    passwd='1234', \n",
    "    db='test'\n",
    ")\n",
    "\n",
    "cursor = db.cursor()\n",
    "\n",
    "# SQL 문 작성\n",
    "sql = \"\"\"\n",
    "    insert into pydbtest(name, price) values (%s, %s)\n",
    "\"\"\"\n",
    "\n",
    "# SQL Query 실행(메모리상에서 완료)\n",
    "cursor.execute(sql, ('Xeon', 10000000))\n",
    "cursor.execute(sql, ('OpenVINO', 30000000))\n",
    "cursor.execute(sql, ('Nvidia RTX Titan', 4000000))\n",
    "\n",
    "# 실제 DB에 적용(commit)\n",
    "db.commit()\n",
    "\n",
    "# DB 닫기\n",
    "db.close()\n",
    "\n",
    "print(\"Insert Success\")"
   ]
  },
  {
   "cell_type": "code",
   "execution_count": 4,
   "metadata": {},
   "outputs": [
    {
     "name": "stdout",
     "output_type": "stream",
     "text": [
      "((1, 'Xeon', 10000000), (2, 'OpenVINO', 30000000), (3, 'Nvidia RTX Titan', 4000000))\n",
      "Select Success\n"
     ]
    }
   ],
   "source": [
    "import pymysql\n",
    "\n",
    "db = pymysql.connect(\n",
    "    host='127.0.0.1', \n",
    "    port=3306, \n",
    "    user='stest', \n",
    "    passwd='1234', \n",
    "    db='test'\n",
    ")\n",
    "\n",
    "cursor = db.cursor()\n",
    "\n",
    "sql = \"\"\"\n",
    "    select * from pydbtest;\n",
    "\"\"\"\n",
    "\n",
    "# Query를 실행한 이후 정보를 cursor가 가지고 있고\n",
    "# fetch를 통해서 실제 값을 얻어와야 한다.\n",
    "cursor.execute(sql)\n",
    "rows = cursor.fetchall()  # select로 얻은 데이터 전부\n",
    "print(rows)\n",
    "\n",
    "# db.commit()은 실제 DB에 적용할 변경된 사항이 있을 경우에만 필요하다.\n",
    "db.close()\n",
    "\n",
    "print(\"Select Success\")"
   ]
  },
  {
   "cell_type": "code",
   "execution_count": 5,
   "metadata": {},
   "outputs": [
    {
     "name": "stdout",
     "output_type": "stream",
     "text": [
      "(1, 'Xeon', 10000000)\n",
      "(2, 'OpenVINO', 30000000)\n",
      "(3, 'Nvidia RTX Titan', 4000000)\n",
      "Select Success\n"
     ]
    }
   ],
   "source": [
    "import pymysql\n",
    "\n",
    "db = pymysql.connect(\n",
    "    host='127.0.0.1', \n",
    "    port=3306, \n",
    "    user='stest', \n",
    "    passwd='1234', \n",
    "    db='test'\n",
    ")\n",
    "\n",
    "cursor = db.cursor()\n",
    "\n",
    "sql = \"\"\"\n",
    "    select * from pydbtest;\n",
    "\"\"\"\n",
    "\n",
    "cursor.execute(sql)\n",
    "\n",
    "rows = cursor.fetchall()\n",
    "for row in rows:\n",
    "    print(row)\n",
    "\n",
    "db.close()\n",
    "\n",
    "print(\"Select Success\")"
   ]
  },
  {
   "cell_type": "code",
   "execution_count": 7,
   "metadata": {},
   "outputs": [
    {
     "name": "stdout",
     "output_type": "stream",
     "text": [
      "{'id': 1, 'name': 'Xeon', 'price': 10000000}\n",
      "1 Xeon 10000000\n",
      "{'id': 2, 'name': 'OpenVINO', 'price': 30000000}\n",
      "2 OpenVINO 30000000\n",
      "{'id': 3, 'name': 'Nvidia RTX Titan', 'price': 4000000}\n",
      "3 Nvidia RTX Titan 4000000\n",
      "Select Success\n"
     ]
    }
   ],
   "source": [
    "import pymysql\n",
    "\n",
    "db = pymysql.connect(\n",
    "    host='127.0.0.1', \n",
    "    port=3306, \n",
    "    user='stest', \n",
    "    passwd='1234', \n",
    "    db='test'\n",
    ")\n",
    "\n",
    "cursor = db.cursor(pymysql.cursors.DictCursor)\n",
    "\n",
    "sql = \"\"\"\n",
    "    select * from pydbtest;\n",
    "\"\"\"\n",
    "\n",
    "cursor.execute(sql)\n",
    "\n",
    "rows = cursor.fetchall()\n",
    "for row in rows:\n",
    "    print(row)\n",
    "    print(row['id'], row['name'], row['price'])\n",
    "\n",
    "db.close()\n",
    "\n",
    "print(\"Select Success\")"
   ]
  },
  {
   "cell_type": "code",
   "execution_count": 8,
   "metadata": {},
   "outputs": [
    {
     "name": "stdout",
     "output_type": "stream",
     "text": [
      "{\"id\": 3737, \"name\": \"Rubric\", \"history\": [{\"date\": \"1999-03-12\", \"item\": \"PC\"}, {\"date\": \"2019-12-23\", \"item\": \"Notebook\"}]}\n",
      "<class 'str'>\n"
     ]
    }
   ],
   "source": [
    "import json\n",
    "\n",
    "customer = {\n",
    "    'id': 3737,\n",
    "    'name': 'Rubric',\n",
    "    'history': [\n",
    "        {'date': '1999-03-12', 'item': 'PC'},\n",
    "        {'date': '2019-12-23', 'item': 'Notebook'}\n",
    "    ]\n",
    "}\n",
    "\n",
    "jsonStr = json.dumps(customer)\n",
    "\n",
    "print(jsonStr)\n",
    "print(type(jsonStr))"
   ]
  },
  {
   "cell_type": "code",
   "execution_count": 9,
   "metadata": {},
   "outputs": [
    {
     "name": "stdout",
     "output_type": "stream",
     "text": [
      "3737\n",
      "Rubric\n",
      "1999-03-12 : PC\n",
      "2019-12-23 : Notebook\n"
     ]
    }
   ],
   "source": [
    "dict = json.loads(jsonStr)\n",
    "\n",
    "print(dict['id'])\n",
    "print(dict['name'])\n",
    "\n",
    "for info in dict['history']:\n",
    "    print(info['date'], ':', info['item'])"
   ]
  },
  {
   "cell_type": "code",
   "execution_count": 12,
   "metadata": {},
   "outputs": [
    {
     "name": "stdout",
     "output_type": "stream",
     "text": [
      "['Ref', 'Package', 'Qty', 'Value', 'Digikey part number', 'Manufacturer part number']\n",
      "['BT1', 'BatteryHolder_Keystone_2481_4xAAA', '1', 'Battery', '36-2481-ND', '2481']\n",
      "['C10,C9,C1', 'CP_Radial_D5.0mm_P2.00mm', '3', '10uF', '732-8856-1-ND', '860020672010']\n",
      "['C11', 'C_Disc_D3.8mm_W2.6mm_P2.50mm', '1', '47000pF', 'BC5153-ND', 'K473K15X7RF53L2']\n",
      "['C13,C12', 'CP_Radial_D6.3mm_P2.50mm', '2', '220uF', '732-8634-1-ND', '860010473011']\n",
      "['C3', 'C_Disc_D5.0mm_W2.5mm_P5.00mm', '1', '100pF', 'BC5223CT-ND', 'K101J10C0GF5UH5']\n",
      "['C5', 'CP_Radial_D5.0mm_P2.00mm', '1', '1uF', '732-8851-1-ND', '860020672005']\n",
      "['C6,C4', 'C_Disc_D5.0mm_W2.5mm_P5.00mm', '2', '1000pF', 'BC2659CT-ND', 'K102K10X7RF5UH5']\n",
      "['C8,C7,C2', 'C_Disc_D5.1mm_W3.2mm_P5.00mm', '3', '0.1uF', '478-2472-ND', 'SR215C104KAA']\n",
      "['D1', 'D_DO-35_SOD27_P7.62mm_Horizontal', '1', 'BAT41', '497-2493-1-ND', 'BAT41']\n",
      "['D2', 'LED_D5.0mm_Horizontal_O1.27mm_Z9.0mm', '1', 'LED', 'C5SMF-RJF-CT0W0BB1-ND', 'C5SMF-RJF-CT0W0BB1']\n",
      "['J1', 'MOLEX_0731713150', '1', 'Conn_Coaxial', '731713150', 'WM20430-ND']\n",
      "['LS1', 'CLS0231MP-1_SPEAKER', '1', 'Speaker', '102-1543-ND', 'CLS0231MP-1']\n",
      "['Q1', 'TO-92_Inline_Wide', '1', '2N4401', '2N4401TFCT-ND', '2N4401TF']\n",
      "['R3', 'R_Axial_DIN0207_L6.3mm_D2.5mm_P10.16mm_Horizontal', '1', '100', 'CF14JT100RCT-ND', 'CF14JT100R']\n",
      "['R4', 'R_Axial_DIN0207_L6.3mm_D2.5mm_P10.16mm_Horizontal', '1', '22k', 'CF14JT22K0CT-ND', 'CF14JT22K0']\n",
      "['R5,R2', 'R_Axial_DIN0207_L6.3mm_D2.5mm_P10.16mm_Horizontal', '2', '1M', 'RNF14FTD1M00CT-ND', 'RNF14FTD1M00']\n",
      "['R6', 'R_Axial_DIN0207_L6.3mm_D2.5mm_P10.16mm_Horizontal', '1', '1k', 'CF14JT1K00CT-ND', 'CF14JT1K00']\n",
      "['R7', 'R_Axial_DIN0207_L6.3mm_D2.5mm_P10.16mm_Horizontal', '1', '1.3k', '1.30KXBK-ND', 'MFR-25FBF52-1K3']\n",
      "['R8', 'R_Axial_DIN0207_L6.3mm_D2.5mm_P10.16mm_Horizontal', '1', '10', 'CF18JT10R0CT-ND', 'CF18JT10R0']\n",
      "['R9,R1', 'R_Axial_DIN0207_L6.3mm_D2.5mm_P10.16mm_Horizontal', '2', '10k', 'CF14JT10K0CT-ND', 'CF14JT10K0']\n",
      "['RV1', 'Potentiometer_Bourns_PTV09A-2_Single_Horizontal', '1', '10k_pot', 'PTV09A-2020F-A103-ND', 'PTV09A-2020F-A103']\n",
      "['SW2,SW1', '\\u200eEG1206\\u200e_SLIDE_SWITCH', '2', 'SW_SPST', 'EG1916-ND', 'EG1206']\n",
      "['U1', 'DIP-8_W7.62mm', '1', 'LM386', '296-44414-5-ND', 'LM386N-1/NOPB']\n"
     ]
    }
   ],
   "source": [
    "import csv\n",
    "\n",
    "# 'r'은 read 라는 의미\n",
    "# fd = File Descriptor의 약자\n",
    "# 리눅스와 유닉스(맥)의 핵심 철학 == 모든것은 파일이다.\n",
    "fd = open('low-voltage-bom.csv', 'r', encoding='utf-8')\n",
    "\n",
    "readIO = csv.reader(fd)\n",
    "\n",
    "for line in readIO:\n",
    "    print(line)\n",
    "    \n",
    "fd.close()"
   ]
  },
  {
   "cell_type": "code",
   "execution_count": 13,
   "metadata": {},
   "outputs": [],
   "source": [
    "import csv\n",
    "\n",
    "fd = open('test.csv', 'w', encoding='utf-8', newline='')\n",
    "\n",
    "writeIO = csv.writer(fd)\n",
    "\n",
    "# 위에 만든 예제들을 응용하면\n",
    "# DB상에서 데이터를 가져와서 혹은 웹에서 데이터를 가져와서\n",
    "# 엑셀 파일을 만들 수 있다.\n",
    "writeIO.writerow([1, 'Intel', False])\n",
    "writeIO.writerow([2, 'AMD', True])\n",
    "\n",
    "fd.close()"
   ]
  },
  {
   "cell_type": "code",
   "execution_count": 14,
   "metadata": {},
   "outputs": [
    {
     "name": "stdout",
     "output_type": "stream",
     "text": [
      "['1', 'Intel', 'False']\n",
      "['2', 'AMD', 'True']\n"
     ]
    }
   ],
   "source": [
    "fd = open('test.csv', 'r', encoding='utf-8')\n",
    "\n",
    "readIO = csv.reader(fd)\n",
    "\n",
    "for line in readIO:\n",
    "    print(line)\n",
    "    \n",
    "fd.close()"
   ]
  },
  {
   "cell_type": "code",
   "execution_count": 17,
   "metadata": {},
   "outputs": [
    {
     "name": "stdout",
     "output_type": "stream",
     "text": [
      " * Serving Flask app \"__main__\" (lazy loading)\n",
      " * Environment: production\n",
      "   WARNING: This is a development server. Do not use it in a production deployment.\n",
      "   Use a production WSGI server instead.\n",
      " * Debug mode: off\n"
     ]
    },
    {
     "name": "stderr",
     "output_type": "stream",
     "text": [
      " * Running on http://127.0.0.1:5000/ (Press CTRL+C to quit)\n"
     ]
    }
   ],
   "source": [
    "# pip install Flask\n",
    "# pip install flask\n",
    "from flask import Flask\n",
    "\n",
    "app = Flask(__name__)\n",
    "\n",
    "@app.route('/')\n",
    "@app.route('/index')\n",
    "def index():\n",
    "    return \"Hello Python Web Programming\"\n",
    "\n",
    "app.run()"
   ]
  },
  {
   "cell_type": "code",
   "execution_count": 19,
   "metadata": {},
   "outputs": [
    {
     "name": "stdout",
     "output_type": "stream",
     "text": [
      " * Serving Flask app \"__main__\" (lazy loading)\n",
      " * Environment: production\n",
      "   WARNING: This is a development server. Do not use it in a production deployment.\n",
      "   Use a production WSGI server instead.\n",
      " * Debug mode: off\n"
     ]
    },
    {
     "name": "stderr",
     "output_type": "stream",
     "text": [
      " * Running on http://127.0.0.1:5000/ (Press CTRL+C to quit)\n",
      "127.0.0.1 - - [19/Jun/2020 11:06:38] \"\u001b[37mGET /index HTTP/1.1\u001b[0m\" 200 -\n"
     ]
    }
   ],
   "source": [
    "from flask import Flask\n",
    "\n",
    "app = Flask(__name__)\n",
    "\n",
    "user = {'nickname': 'FPGA'}\n",
    "\n",
    "# HTML Tag가 많이 들어가고 자바스크립트가 연동되기 시작하면\n",
    "# Flask 보다는 DJango를 추천한다.\n",
    "# 왜냐하면 그때부터는 <% ~~~ %> 이런것들을 남발해야 하기 때문\n",
    "# 하지만 단순히 Restful API Server를 만든다면 Flask가 더 편하다.\n",
    "@app.route('/')\n",
    "@app.route('/index')\n",
    "def index():\n",
    "    \"\"\"Index View HTML Ready ? Go!\"\"\"\n",
    "    return \"\"\"\n",
    "        <html>\n",
    "            <head>\n",
    "                <title>Python Flask Web</title>\n",
    "            </head>\n",
    "            <body>\n",
    "                <h1>Hello, \"\"\" + user['nickname'] + \"\"\"</h1>\n",
    "            </body>\n",
    "        </html>\n",
    "    \"\"\"\n",
    "\n",
    "app.run()"
   ]
  },
  {
   "cell_type": "code",
   "execution_count": 21,
   "metadata": {},
   "outputs": [
    {
     "name": "stdout",
     "output_type": "stream",
     "text": [
      " * Serving Flask app \"__main__\" (lazy loading)\n",
      " * Environment: production\n",
      "   WARNING: This is a development server. Do not use it in a production deployment.\n",
      "   Use a production WSGI server instead.\n",
      " * Debug mode: off\n"
     ]
    },
    {
     "name": "stderr",
     "output_type": "stream",
     "text": [
      " * Running on http://127.0.0.1:5000/ (Press CTRL+C to quit)\n",
      "127.0.0.1 - - [19/Jun/2020 11:42:17] \"\u001b[37mGET / HTTP/1.1\u001b[0m\" 200 -\n",
      "127.0.0.1 - - [19/Jun/2020 11:45:36] \"\u001b[37mGET / HTTP/1.1\u001b[0m\" 200 -\n"
     ]
    }
   ],
   "source": [
    "from flask import Flask\n",
    "from flask import render_template\n",
    "\n",
    "app = Flask(__name__)\n",
    "\n",
    "user = {'nickname': 'FPGASDR'}\n",
    "posts = [\n",
    "    {\n",
    "        'author': {'nickname': 'SHL'},\n",
    "        'body': 'FPGA Go Go Go'\n",
    "    },\n",
    "    {\n",
    "        'author': {'nickname': 'Susan'},\n",
    "        'body': 'I love summer'\n",
    "    },\n",
    "]\n",
    "\n",
    "@app.route('/')\n",
    "@app.route('/index')\n",
    "def index():\n",
    "    # render_template은 HTML을 뿌리고 싶은 경우 사용함\n",
    "    # 보통 RESTFUL API 서버는 json을 return하므로 필요 없음\n",
    "    # 그래서 Flask가 RESTFUL API 서버로는 상당히 괜찮다.\n",
    "    return render_template('index.html', title = 'Web', user = user, posts = posts)\n",
    "\n",
    "app.run()"
   ]
  },
  {
   "cell_type": "code",
   "execution_count": null,
   "metadata": {},
   "outputs": [
    {
     "name": "stdout",
     "output_type": "stream",
     "text": [
      " * Serving Flask app \"__main__\" (lazy loading)\n",
      " * Environment: production\n",
      "   WARNING: This is a development server. Do not use it in a production deployment.\n",
      "   Use a production WSGI server instead.\n",
      " * Debug mode: off\n"
     ]
    },
    {
     "name": "stderr",
     "output_type": "stream",
     "text": [
      " * Running on http://127.0.0.1:5000/ (Press CTRL+C to quit)\n"
     ]
    }
   ],
   "source": [
    "# Spring이 Python에게 요청하는 RESTFUL API Server를 만들어보자!\n",
    "from flask import Flask, jsonify\n",
    "# pip install jsonify\n",
    "\n",
    "import requests\n",
    "import json\n",
    "\n",
    "# pip install restful\n",
    "from flask_restful import Resource, Api, reqparse\n",
    "\n",
    "# Flask 서버를 준비\n",
    "app = Flask(__name__)\n",
    "# RESTFUL 처리 준비\n",
    "api = Api(app)\n",
    "\n",
    "@app.route('/dataServer')\n",
    "def PythonServerResponse():\n",
    "    print(\"It's operate\");\n",
    "    summary = {'name': 'Hello', 'major': 'C++'}\n",
    "    return jsonify(summary)\n",
    "\n",
    "app.run()"
   ]
  },
  {
   "cell_type": "code",
   "execution_count": null,
   "metadata": {},
   "outputs": [],
   "source": []
  }
 ],
 "metadata": {
  "kernelspec": {
   "display_name": "Python 3",
   "language": "python",
   "name": "python3"
  },
  "language_info": {
   "codemirror_mode": {
    "name": "ipython",
    "version": 3
   },
   "file_extension": ".py",
   "mimetype": "text/x-python",
   "name": "python",
   "nbconvert_exporter": "python",
   "pygments_lexer": "ipython3",
   "version": "3.7.6"
  }
 },
 "nbformat": 4,
 "nbformat_minor": 4
}
