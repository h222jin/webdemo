{
 "cells": [
  {
   "cell_type": "code",
   "execution_count": 1,
   "metadata": {},
   "outputs": [
    {
     "name": "stdout",
     "output_type": "stream",
     "text": [
      "Table Creation Success\n"
     ]
    }
   ],
   "source": [
    "# pip install pymysql\n",
    "import pymysql\n",
    "\n",
    "# Connection(접속)\n",
    "# 잘 기억이 나지 않는다면 show databases;\n",
    "# mysql -u stest -p 비밀번호\n",
    "db = pymysql.connect(\n",
    "    host='127.0.0.1', \n",
    "    port=3306, \n",
    "    user='stest', \n",
    "    passwd='1234', \n",
    "    db='test'\n",
    ")\n",
    "\n",
    "cursor = db.cursor()\n",
    "\n",
    "# SQL 문 작성\n",
    "# 잘 생성되었는지 확인하기 - show tables;\n",
    "sql = \"\"\"\n",
    "    create table pydbtest(\n",
    "        id int unsigned not null auto_increment,\n",
    "        name varchar(20) not null,\n",
    "        price int not null,\n",
    "        primary key(id)\n",
    "    );\n",
    "\"\"\"\n",
    "\n",
    "# SQL Query 실행(메모리상에서 완료)\n",
    "cursor.execute(sql)\n",
    "\n",
    "# 실제 DB에 적용(commit)\n",
    "db.commit()\n",
    "\n",
    "# DB 닫기\n",
    "db.close()\n",
    "\n",
    "print(\"Table Creation Success\")"
   ]
  },
  {
   "cell_type": "code",
   "execution_count": 2,
   "metadata": {},
   "outputs": [
    {
     "name": "stdout",
     "output_type": "stream",
     "text": [
      "Insert Success\n"
     ]
    }
   ],
   "source": [
    "import pymysql\n",
    "\n",
    "db = pymysql.connect(\n",
    "    host='127.0.0.1', \n",
    "    port=3306, \n",
    "    user='stest', \n",
    "    passwd='1234', \n",
    "    db='test'\n",
    ")\n",
    "\n",
    "cursor = db.cursor()\n",
    "\n",
    "# SQL 문 작성\n",
    "sql = \"\"\"\n",
    "    insert into pydbtest(name, price) values (%s, %s)\n",
    "\"\"\"\n",
    "\n",
    "# SQL Query 실행(메모리상에서 완료)\n",
    "cursor.execute(sql, ('Xeon', 10000000))\n",
    "cursor.execute(sql, ('OpenVINO', 30000000))\n",
    "cursor.execute(sql, ('Nvidia RTX Titan', 4000000))\n",
    "\n",
    "# 실제 DB에 적용(commit)\n",
    "db.commit()\n",
    "\n",
    "# DB 닫기\n",
    "db.close()\n",
    "\n",
    "print(\"Insert Success\")"
   ]
  },
  {
   "cell_type": "code",
   "execution_count": 4,
   "metadata": {},
   "outputs": [
    {
     "name": "stdout",
     "output_type": "stream",
     "text": [
      "((1, 'Xeon', 10000000), (2, 'OpenVINO', 30000000), (3, 'Nvidia RTX Titan', 4000000))\n",
      "Select Success\n"
     ]
    }
   ],
   "source": [
    "import pymysql\n",
    "\n",
    "db = pymysql.connect(\n",
    "    host='127.0.0.1', \n",
    "    port=3306, \n",
    "    user='stest', \n",
    "    passwd='1234', \n",
    "    db='test'\n",
    ")\n",
    "\n",
    "cursor = db.cursor()\n",
    "\n",
    "sql = \"\"\"\n",
    "    select * from pydbtest;\n",
    "\"\"\"\n",
    "\n",
    "# Query를 실행한 이후 정보를 cursor가 가지고 있고\n",
    "# fetch를 통해서 실제 값을 얻어와야 한다.\n",
    "cursor.execute(sql)\n",
    "rows = cursor.fetchall()  # select로 얻은 데이터 전부\n",
    "print(rows)\n",
    "\n",
    "# db.commit()은 실제 DB에 적용할 변경된 사항이 있을 경우에만 필요하다.\n",
    "db.close()\n",
    "\n",
    "print(\"Select Success\")"
   ]
  },
  {
   "cell_type": "code",
   "execution_count": 5,
   "metadata": {},
   "outputs": [
    {
     "name": "stdout",
     "output_type": "stream",
     "text": [
      "(1, 'Xeon', 10000000)\n",
      "(2, 'OpenVINO', 30000000)\n",
      "(3, 'Nvidia RTX Titan', 4000000)\n",
      "Select Success\n"
     ]
    }
   ],
   "source": [
    "import pymysql\n",
    "\n",
    "db = pymysql.connect(\n",
    "    host='127.0.0.1', \n",
    "    port=3306, \n",
    "    user='stest', \n",
    "    passwd='1234', \n",
    "    db='test'\n",
    ")\n",
    "\n",
    "cursor = db.cursor()\n",
    "\n",
    "sql = \"\"\"\n",
    "    select * from pydbtest;\n",
    "\"\"\"\n",
    "\n",
    "cursor.execute(sql)\n",
    "\n",
    "rows = cursor.fetchall()\n",
    "for row in rows:\n",
    "    print(row)\n",
    "\n",
    "db.close()\n",
    "\n",
    "print(\"Select Success\")"
   ]
  },
  {
   "cell_type": "code",
   "execution_count": 7,
   "metadata": {},
   "outputs": [
    {
     "name": "stdout",
     "output_type": "stream",
     "text": [
      "{'id': 1, 'name': 'Xeon', 'price': 10000000}\n",
      "1 Xeon 10000000\n",
      "{'id': 2, 'name': 'OpenVINO', 'price': 30000000}\n",
      "2 OpenVINO 30000000\n",
      "{'id': 3, 'name': 'Nvidia RTX Titan', 'price': 4000000}\n",
      "3 Nvidia RTX Titan 4000000\n",
      "Select Success\n"
     ]
    }
   ],
   "source": [
    "import pymysql\n",
    "\n",
    "db = pymysql.connect(\n",
    "    host='127.0.0.1', \n",
    "    port=3306, \n",
    "    user='stest', \n",
    "    passwd='1234', \n",
    "    db='test'\n",
    ")\n",
    "\n",
    "cursor = db.cursor(pymysql.cursors.DictCursor)\n",
    "\n",
    "sql = \"\"\"\n",
    "    select * from pydbtest;\n",
    "\"\"\"\n",
    "\n",
    "cursor.execute(sql)\n",
    "\n",
    "rows = cursor.fetchall()\n",
    "for row in rows:\n",
    "    print(row)\n",
    "    print(row['id'], row['name'], row['price'])\n",
    "\n",
    "db.close()\n",
    "\n",
    "print(\"Select Success\")"
   ]
  },
  {
   "cell_type": "code",
   "execution_count": null,
   "metadata": {},
   "outputs": [],
   "source": []
  }
 ],
 "metadata": {
  "kernelspec": {
   "display_name": "Python 3",
   "language": "python",
   "name": "python3"
  },
  "language_info": {
   "codemirror_mode": {
    "name": "ipython",
    "version": 3
   },
   "file_extension": ".py",
   "mimetype": "text/x-python",
   "name": "python",
   "nbconvert_exporter": "python",
   "pygments_lexer": "ipython3",
   "version": "3.7.6"
  }
 },
 "nbformat": 4,
 "nbformat_minor": 4
}
